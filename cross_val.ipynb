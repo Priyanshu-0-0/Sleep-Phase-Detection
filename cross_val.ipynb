{
 "cells": [
  {
   "cell_type": "code",
   "execution_count": 1,
   "metadata": {},
   "outputs": [],
   "source": [
    "import numpy as np\n",
    "import pandas as pd\n",
    "import tensorflow as tf\n",
    "from sklearn.ensemble import GradientBoostingClassifier\n",
    "from sklearn.preprocessing import StandardScaler\n",
    "from sklearn.pipeline import make_pipeline\n",
    "from sklearn.linear_model import LogisticRegression\n",
    "from sklearn.ensemble import RandomForestClassifier\n",
    "from sklearn.neighbors import KNeighborsClassifier\n",
    "from plotingfun import *\n",
    "from helper_functions import *\n",
    "# import optuna\n",
    "# from optuna.integration import TFKerasPruningCallback\n",
    "# from optuna.trial import TrialState\n",
    "import tensorflow as tf\n",
    "from sklearn.model_selection import KFold\n",
    "from sklearn.model_selection import train_test_split\n",
    "import numpy as np\n",
    "from sklearn.model_selection import KFold\n",
    "from sklearn.metrics import accuracy_score, f1_score, recall_score, precision_score\n",
    "from sklearn.preprocessing import StandardScaler\n",
    "from sklearn.svm import SVC\n",
    "from catboost import CatBoostClassifier\n",
    "import seaborn as sns\n"
   ]
  },
  {
   "cell_type": "code",
   "execution_count": 2,
   "metadata": {},
   "outputs": [
    {
     "ename": "ModuleNotFoundError",
     "evalue": "No module named 'xgboost'",
     "output_type": "error",
     "traceback": [
      "\u001b[1;31m---------------------------------------------------------------------------\u001b[0m",
      "\u001b[1;31mModuleNotFoundError\u001b[0m                       Traceback (most recent call last)",
      "Cell \u001b[1;32mIn[2], line 1\u001b[0m\n\u001b[1;32m----> 1\u001b[0m \u001b[39mimport\u001b[39;00m \u001b[39mxgboost\u001b[39;00m \u001b[39mas\u001b[39;00m \u001b[39mxgb\u001b[39;00m\n",
      "\u001b[1;31mModuleNotFoundError\u001b[0m: No module named 'xgboost'"
     ]
    }
   ],
   "source": [
    "import xgboost as xgb"
   ]
  },
  {
   "cell_type": "code",
   "execution_count": null,
   "metadata": {},
   "outputs": [],
   "source": [
    "file=\"all_features.csv\""
   ]
  },
  {
   "cell_type": "code",
   "execution_count": null,
   "metadata": {},
   "outputs": [],
   "source": [
    "data = pd.read_csv(file, header=None)\n"
   ]
  },
  {
   "cell_type": "code",
   "execution_count": null,
   "metadata": {},
   "outputs": [],
   "source": [
    "data"
   ]
  },
  {
   "cell_type": "code",
   "execution_count": null,
   "metadata": {},
   "outputs": [],
   "source": [
    "data.columns[data.isnull().any()].tolist()"
   ]
  },
  {
   "cell_type": "code",
   "execution_count": null,
   "metadata": {},
   "outputs": [],
   "source": [
    "import matplotlib.pyplot as plt\n",
    "\n",
    "plt.figure(figsize=(30, 10)) # You can adjust the size as you need\n",
    "data.isna().sum()[data.isna().sum()>0].plot(kind=\"bar\")\n",
    "plt.show()\n"
   ]
  },
  {
   "cell_type": "code",
   "execution_count": null,
   "metadata": {},
   "outputs": [],
   "source": [
    "ds = data.isin([np.inf, -np.inf])\n"
   ]
  },
  {
   "cell_type": "code",
   "execution_count": null,
   "metadata": {},
   "outputs": [],
   "source": [
    "ds"
   ]
  },
  {
   "cell_type": "code",
   "execution_count": null,
   "metadata": {},
   "outputs": [],
   "source": [
    "# Take the first 10% of your data\n",
    "num_samples = int(len(data) * 0.1)\n",
    "data_sample = data.iloc[:num_samples]\n"
   ]
  },
  {
   "cell_type": "code",
   "execution_count": null,
   "metadata": {},
   "outputs": [],
   "source": [
    "data_sample"
   ]
  },
  {
   "cell_type": "code",
   "execution_count": null,
   "metadata": {},
   "outputs": [],
   "source": [
    "print(data_sample.columns)\n"
   ]
  },
  {
   "cell_type": "code",
   "execution_count": null,
   "metadata": {},
   "outputs": [],
   "source": [
    "data_sample[272].value_counts()"
   ]
  },
  {
   "cell_type": "code",
   "execution_count": null,
   "metadata": {},
   "outputs": [],
   "source": [
    "# Extract the features and target variable from the sample\n",
    "X = data_sample.drop([272], axis=1)\n",
    "y = data_sample[272]"
   ]
  },
  {
   "cell_type": "code",
   "execution_count": null,
   "metadata": {},
   "outputs": [],
   "source": [
    "y.value_counts()"
   ]
  },
  {
   "cell_type": "code",
   "execution_count": null,
   "metadata": {},
   "outputs": [],
   "source": [
    "y=y-1"
   ]
  },
  {
   "cell_type": "code",
   "execution_count": null,
   "metadata": {},
   "outputs": [],
   "source": [
    "y.value_counts()"
   ]
  },
  {
   "cell_type": "code",
   "execution_count": null,
   "metadata": {},
   "outputs": [],
   "source": [
    "np.isinf(X).any().any()"
   ]
  },
  {
   "cell_type": "code",
   "execution_count": null,
   "metadata": {},
   "outputs": [],
   "source": [
    "X.replace([np.inf, -np.inf], np.nan, inplace=True)\n",
    "X.fillna(0, inplace=True)\n",
    "\"\"\"X.replace([np.inf, -np.inf], np.nan, inplace=True)\n",
    "X.fillna(X.mean(), inplace=True)\"\"\""
   ]
  },
  {
   "cell_type": "code",
   "execution_count": null,
   "metadata": {},
   "outputs": [],
   "source": []
  },
  {
   "cell_type": "code",
   "execution_count": null,
   "metadata": {},
   "outputs": [],
   "source": [
    "#X_train, X_test, y_train, y_test = train_test_split(X, y, test_size=0.30, random_state=101,shuffle=\"False\")"
   ]
  },
  {
   "cell_type": "code",
   "execution_count": null,
   "metadata": {},
   "outputs": [],
   "source": [
    "\"\"\"import xgboost as xgb\n",
    "from sklearn.preprocessing import StandardScaler\n",
    "scaler = StandardScaler()\n",
    "X_train_scaled = scaler.fit_transform(X_train)\n",
    "X_test_scaled = scaler.transform(X_test)\n",
    "model2 = xgb.XGBClassifier()\n",
    "model2.fit(X_train_scaled, y_train)\n",
    "preds2 = model2.predict(X_test_scaled)\n",
    "modelscore2(y_pred=preds2, y_true=y_test)\"\"\""
   ]
  },
  {
   "cell_type": "code",
   "execution_count": null,
   "metadata": {},
   "outputs": [],
   "source": [
    "import numpy as np\n",
    "from sklearn.model_selection import KFold\n",
    "from sklearn.metrics import accuracy_score, f1_score, recall_score, precision_score\n",
    "from sklearn.preprocessing import StandardScaler\n",
    "import xgboost as xgb\n",
    "\n",
    "accuracy_scores = []\n",
    "f1_scores_list = []\n",
    "recall_scores = []\n",
    "precision_scores_list = []\n",
    "\n",
    "crossvalidation = KFold(n_splits=5, shuffle=True, random_state=42)\n",
    "\n",
    "for train_index, test_index in crossvalidation.split(X):\n",
    "    X_train, X_test = X[train_index], X[test_index]\n",
    "    y_train, y_test = y[train_index], y[test_index]\n",
    "    scaler = StandardScaler()\n",
    "    X_train_scaled = scaler.fit_transform(X_train)\n",
    "    X_test_scaled = scaler.transform(X_test)\n",
    "    modelxgboost = xgb.XGBClassifier()\n",
    "    modelxgboost.fit(X_train_scaled, y_train)\n",
    "    y_pred = modelxgboost.predict(X_test_scaled)\n",
    "    accuracy = accuracy_score(y_true=y_test, y_pred=y_pred)\n",
    "    accuracy_scores.append(accuracy)\n",
    "    f1 = f1_score(y_true=y_test, y_pred=y_pred, average='micro')\n",
    "    f1_scores_list.append(f1)\n",
    "    recall = recall_score(y_true=y_test, y_pred=y_pred, average='micro')\n",
    "    recall_scores.append(recall)\n",
    "    precision = precision_score(y_true=y_test, y_pred=y_pred, average='micro')\n",
    "    precision_scores_list.append(precision)\n",
    "\n",
    "mean_accuracy = np.mean(accuracy_scores)\n",
    "mean_f1 = np.mean(f1_scores_list)\n",
    "mean_recall = np.mean(recall_scores)\n",
    "mean_precision = np.mean(precision_scores_list)\n",
    "\n",
    "xgboost_score = {\"Accuracy\": mean_accuracy, \"F1-Score\": mean_f1, \"Recall\": mean_recall, \"Precision\": mean_precision}\n"
   ]
  },
  {
   "cell_type": "code",
   "execution_count": null,
   "metadata": {},
   "outputs": [],
   "source": [
    "\"\"\"from catboost import CatBoostClassifier\n",
    "from sklearn.preprocessing import StandardScaler\n",
    "\n",
    "scaler = StandardScaler()\n",
    "X_train_scaled = scaler.fit_transform(X_train)\n",
    "X_test_scaled = scaler.transform(X_test)\n",
    "\n",
    "model3 = CatBoostClassifier(verbose=1)\n",
    "model3.fit(X_train_scaled, y_train)\n",
    "preds3 = model3.predict(X_test_scaled)\n",
    "\n",
    "modelscore2(y_pred=preds3, y_true=y_test)\n",
    "\"\"\""
   ]
  },
  {
   "cell_type": "code",
   "execution_count": null,
   "metadata": {},
   "outputs": [],
   "source": [
    "accuracy_scores = []\n",
    "f1_scores_list = []\n",
    "recall_scores = []\n",
    "precision_scores_list = []\n",
    "\n",
    "crossvalidation = KFold(n_splits=5, shuffle=True, random_state=42)\n",
    "\n",
    "for train_index, test_index in crossvalidation.split(X):\n",
    "    X_train, X_test = X[train_index], X[test_index]\n",
    "    y_train, y_test = y[train_index], y[test_index]\n",
    "    scaler = StandardScaler()\n",
    "    X_train_scaled = scaler.fit_transform(X_train)\n",
    "    X_test_scaled = scaler.transform(X_test)\n",
    "    modelcatboost = CatBoostClassifier(verbose=1)\n",
    "    modelcatboost.fit(X_train_scaled, y_train)\n",
    "    y_pred = modelcatboost.predict(X_test_scaled)\n",
    "    accuracy = accuracy_score(y_true=y_test, y_pred=y_pred)\n",
    "    accuracy_scores.append(accuracy)\n",
    "    f1 = f1_score(y_true=y_test, y_pred=y_pred, average='micro')\n",
    "    f1_scores_list.append(f1)\n",
    "    recall = recall_score(y_true=y_test, y_pred=y_pred, average='micro')\n",
    "    recall_scores.append(recall)\n",
    "    precision = precision_score(y_true=y_test, y_pred=y_pred, average='micro')\n",
    "    precision_scores_list.append(precision)\n",
    "\n",
    "mean_accuracy = np.mean(accuracy_scores)\n",
    "mean_f1 = np.mean(f1_scores_list)\n",
    "mean_recall = np.mean(recall_scores)\n",
    "mean_precision = np.mean(precision_scores_list)\n",
    "\n",
    "catboost_score = {\"Accuracy\": mean_accuracy, \"F1-Score\": mean_f1, \"Recall\": mean_recall, \"Precision\": mean_precision}\n"
   ]
  },
  {
   "cell_type": "code",
   "execution_count": null,
   "metadata": {},
   "outputs": [],
   "source": [
    "\"\"\"from sklearn.svm import SVC\n",
    "from sklearn.preprocessing import StandardScaler\n",
    "\n",
    "scaler = StandardScaler()\n",
    "X_train_scaled = scaler.fit_transform(X_train)\n",
    "X_test_scaled = scaler.transform(X_test)\n",
    "\n",
    "model4 = SVC(verbose=True)\n",
    "model4.fit(X_train_scaled, y_train)\n",
    "preds4 = model4.predict(X_test_scaled)\n",
    "\n",
    "modelscore2(y_pred=preds4, y_true=y_test)\n",
    "\"\"\""
   ]
  },
  {
   "cell_type": "code",
   "execution_count": null,
   "metadata": {},
   "outputs": [],
   "source": [
    "\n",
    "\n",
    "accuracy_scores = []\n",
    "f1_scores_list = []\n",
    "recall_scores = []\n",
    "precision_scores_list = []\n",
    "\n",
    "crossvalidation = KFold(n_splits=5, shuffle=True, random_state=42)\n",
    "\n",
    "for train_index, test_index in crossvalidation.split(X):\n",
    "    X_train, X_test = X[train_index], X[test_index]\n",
    "    y_train, y_test = y[train_index], y[test_index]\n",
    "    scaler = StandardScaler()\n",
    "    X_train_scaled = scaler.fit_transform(X_train)\n",
    "    X_test_scaled = scaler.transform(X_test)\n",
    "    modelSVC= SVC(verbose=True)\n",
    "    modelSVC.fit(X_train_scaled, y_train)\n",
    "    y_pred = modelSVC.predict(X_test_scaled)\n",
    "    accuracy = accuracy_score(y_true=y_test, y_pred=y_pred)\n",
    "    accuracy_scores.append(accuracy)\n",
    "    f1 = f1_score(y_true=y_test, y_pred=y_pred, average='micro')\n",
    "    f1_scores_list.append(f1)\n",
    "    recall = recall_score(y_true=y_test, y_pred=y_pred, average='micro')\n",
    "    recall_scores.append(recall)\n",
    "    precision = precision_score(y_true=y_test, y_pred=y_pred, average='micro')\n",
    "    precision_scores_list.append(precision)\n",
    "\n",
    "mean_accuracy = np.mean(accuracy_scores)\n",
    "mean_f1 = np.mean(f1_scores_list)\n",
    "mean_recall = np.mean(recall_scores)\n",
    "mean_precision = np.mean(precision_scores_list)\n",
    "\n",
    "SVM_score = {\"Accuracy\": mean_accuracy, \"F1-Score\": mean_f1, \"Recall\": mean_recall, \"Precision\": mean_precision}\n"
   ]
  },
  {
   "cell_type": "code",
   "execution_count": null,
   "metadata": {},
   "outputs": [],
   "source": [
    "\"\"\"\n",
    "model1 = make_pipeline(StandardScaler(),\n",
    "                   KNeighborsClassifier(n_neighbors=20))\n",
    "model1.fit(X_train,y_train)\n",
    "preds1=model1.predict(X_test)\n",
    "modelscore2(y_pred=preds1,y_true=y_test)\"\"\""
   ]
  },
  {
   "cell_type": "code",
   "execution_count": null,
   "metadata": {},
   "outputs": [],
   "source": [
    "accuracy_scores = []\n",
    "f1_scores_list = []\n",
    "recall_scores = []\n",
    "precision_scores_list = []\n",
    "\n",
    "crossvalidation = KFold(n_splits=5, shuffle=True, random_state=42)\n",
    "\n",
    "for train_index, test_index in crossvalidation.split(X):\n",
    "    X_train, X_test = X[train_index], X[test_index]\n",
    "    y_train, y_test = y[train_index], y[test_index]\n",
    "    scaler = StandardScaler()\n",
    "    X_train_scaled = scaler.fit_transform(X_train)\n",
    "    X_test_scaled = scaler.transform(X_test)\n",
    "    modelKn= make_pipeline(StandardScaler(),\n",
    "                   KNeighborsClassifier(n_neighbors=20))\n",
    "    modelKn.fit(X_train_scaled, y_train)\n",
    "    y_pred = modelKn.predict(X_test_scaled)\n",
    "    accuracy = accuracy_score(y_true=y_test, y_pred=y_pred)\n",
    "    accuracy_scores.append(accuracy)\n",
    "    f1 = f1_score(y_true=y_test, y_pred=y_pred, average='micro')\n",
    "    f1_scores_list.append(f1)\n",
    "    recall = recall_score(y_true=y_test, y_pred=y_pred, average='micro')\n",
    "    recall_scores.append(recall)\n",
    "    precision = precision_score(y_true=y_test, y_pred=y_pred, average='micro')\n",
    "    precision_scores_list.append(precision)\n",
    "\n",
    "mean_accuracy = np.mean(accuracy_scores)\n",
    "mean_f1 = np.mean(f1_scores_list)\n",
    "mean_recall = np.mean(recall_scores)\n",
    "mean_precision = np.mean(precision_scores_list)\n",
    "\n",
    "Kn_score = {\"Accuracy\": mean_accuracy, \"F1-Score\": mean_f1, \"Recall\": mean_recall, \"Precision\": mean_precision}\n"
   ]
  },
  {
   "cell_type": "code",
   "execution_count": null,
   "metadata": {},
   "outputs": [],
   "source": [
    "score={\"XGBOOST Model\":xgboost_score,\"CATBOOST Model\":catboost_score,\"SVM Model\":SVM_score,\"KNeighborsClassifier Model\":Kn_score}"
   ]
  },
  {
   "cell_type": "code",
   "execution_count": null,
   "metadata": {},
   "outputs": [],
   "source": [
    "score=pd.DataFrame.from_dict(score, orient='index')"
   ]
  },
  {
   "cell_type": "code",
   "execution_count": null,
   "metadata": {},
   "outputs": [],
   "source": [
    "highlighted_score = score.style.highlight_max(color=\"blue\").highlight_min(color=\"red\")\n",
    "highlighted_score.set_caption(\"Lowest values in red, highest values in blue\")\n",
    "display(highlighted_score)\n",
    "\n",
    "highlighted_df = score.style.highlight_max(color='blue').highlight_min(color='red')\n",
    "cm = sns.diverging_palette(10, 220, sep=80, n=7, as_cmap=True)\n",
    "highlighted_df.background_gradient(cmap=cm).set_caption(\"Lowest values in red, highest values in blue\")\n"
   ]
  },
  {
   "cell_type": "code",
   "execution_count": null,
   "metadata": {},
   "outputs": [],
   "source": [
    "ax = score['Accuracy'].plot(kind='bar', figsize=(8,6), color='blue')\n",
    "ax.set_title('Accuracy by Model')\n",
    "ax.set_xlabel('Model')\n",
    "ax.set_ylabel('Accuracy')\n",
    "plt.show()\n"
   ]
  },
  {
   "cell_type": "code",
   "execution_count": null,
   "metadata": {},
   "outputs": [],
   "source": [
    "ax = score['F1-Score'].plot(kind='bar', figsize=(8,6), color='red')\n",
    "ax.set_title('f1-score by Model')\n",
    "ax.set_xlabel('Model')\n",
    "ax.set_ylabel('f1-score')\n",
    "plt.show()\n"
   ]
  },
  {
   "cell_type": "code",
   "execution_count": null,
   "metadata": {},
   "outputs": [],
   "source": [
    "\"\"\"import tensorflow as tf\n",
    "import numpy as np\n",
    "import pandas as pd\n",
    "from sklearn.preprocessing import MinMaxScaler\n",
    "\n",
    "# Check for missing values in the input data\n",
    "print(\"Missing values in X_train:\", X_train.isnull().sum().sum())\n",
    "print(\"Missing values in X_test:\", X_test.isnull().sum().sum())\n",
    "\n",
    "# Fill missing values with zeros\n",
    "X_train = X_train.fillna(0)\n",
    "X_test = X_test.fillna(0)\n",
    "\n",
    "# Normalize the input data using MinMaxScaler\n",
    "scaler = MinMaxScaler()\n",
    "X_train_scaled = scaler.fit_transform(X_train)\n",
    "X_test_scaled = scaler.transform(X_test)\n",
    "\n",
    "\n",
    "\n",
    "\n",
    "# Define the model architecture\n",
    "input_layer = tf.keras.Input(shape=(72, 1), name=\"input_layer\")\n",
    "Conv2D_layer_1 = tf.keras.layers.Conv1D(filters=10, kernel_size=3, activation=\"relu\", name=\"Conv2D_layer1\")(input_layer)\n",
    "Conv2D_layer_2 = tf.keras.layers.Conv1D(10, 3, activation=\"relu\", name=\"Conv2D_layer_2\")(Conv2D_layer_1)\n",
    "MaxPooling2D_layer_1 = tf.keras.layers.MaxPooling1D(pool_size=2, padding=\"valid\", name=\"MaxPooling2D_layer_1\")(Conv2D_layer_2)\n",
    "Conv2D_layer_3 = tf.keras.layers.Conv1D(10, 3, activation=\"relu\", name=\"Conv2D_layer_3\")(MaxPooling2D_layer_1)\n",
    "Conv2D_layer_4 = tf.keras.layers.Conv1D(10, 3, activation=\"relu\", name=\"Conv2D_layer_4\")(Conv2D_layer_3)\n",
    "MaxPooling2D_layer_2 = tf.keras.layers.MaxPooling1D(2, name=\"MaxPooling2D_layer_2\")(Conv2D_layer_4)\n",
    "Flattening_layer = tf.keras.layers.Flatten(name=\"Flattening_layer\")(MaxPooling2D_layer_2)\n",
    "Dense_layer_1 = tf.keras.layers.Dense(32, activation=\"relu\", name=\"Dense_layer_1\")(Flattening_layer)\n",
    "Dense_layer_2 = tf.keras.layers.Dense(64, activation=\"relu\", name=\"Dense_layer_2\")(Dense_layer_1)\n",
    "Dense_layer_3 = tf.keras.layers.Dense(128, activation=\"relu\", name=\"Dense_layer_3\")(Dense_layer_2)\n",
    "output_layer = tf.keras.layers.Dense(5, activation=\"softmax\")(Dense_layer_3)\n",
    "\n",
    "# Create the model\n",
    "cnn_model = tf.keras.Model(inputs=input_layer, outputs=output_layer, name=\"cnn_model\")\n",
    "\n",
    "# Compile the model\n",
    "cnn_model.compile(loss=tf.keras.losses.SparseCategoricalCrossentropy(),\n",
    "                  optimizer=tf.keras.optimizers.Adam(),\n",
    "                  metrics=['accuracy'])\n",
    "\n",
    "# Fit the model\n",
    "history1 = cnn_model.fit(X_train, y_train, epochs=100, validation_data=(X_test, y_test), callbacks=[\n",
    "    tf.keras.callbacks.EarlyStopping(monitor=\"val_accuracy\", patience=100, restore_best_weights=True)\n",
    "])\n",
    "\"\"\""
   ]
  },
  {
   "cell_type": "code",
   "execution_count": null,
   "metadata": {},
   "outputs": [],
   "source": [
    "\"\"\"loss(history1)\"\"\""
   ]
  },
  {
   "cell_type": "code",
   "execution_count": null,
   "metadata": {},
   "outputs": [],
   "source": [
    "\"\"\"\"import tensorflow as tf\n",
    "import numpy as np\n",
    "import pandas as pd\n",
    "from sklearn.preprocessing import MinMaxScaler\n",
    "\n",
    "# Check for missing values in the input data\n",
    "print(\"Missing values in X_train:\", X_train.isnull().sum().sum())\n",
    "print(\"Missing values in X_test:\", X_test.isnull().sum().sum())\n",
    "\n",
    "# Fill missing values with zeros\n",
    "X_train = X_train.fillna(0)\n",
    "X_test = X_test.fillna(0)\n",
    "\n",
    "# Normalize the input data using MinMaxScaler\n",
    "scaler = MinMaxScaler()\n",
    "X_train_scaled = scaler.fit_transform(X_train)\n",
    "X_test_scaled = scaler.transform(X_test)\n",
    "\n",
    "\n",
    "\n",
    "# Define the model architecture\n",
    "input_layer = tf.keras.Input(shape=(72, 1), name=\"input_layer\")\n",
    "Conv2D_layer_1 = tf.keras.layers.Conv1D(filters=16, kernel_size=5, activation=\"relu\", name=\"Conv2D_layer1\",padding=\"valid\")(input_layer)\n",
    "Conv2D_layer_2 = tf.keras.layers.Conv1D(16, 5, activation=\"relu\", name=\"Conv2D_layer_2\",padding=\"valid\")(Conv2D_layer_1)\n",
    "MaxPooling2D_layer_1 = tf.keras.layers.MaxPooling1D(pool_size=2, name=\"MaxPooling2D_layer_1\")(Conv2D_layer_2)\n",
    "dropout1=tf.keras.layers.SpatialDropout1D(rate=0.01)(MaxPooling2D_layer_1)\n",
    "Conv2D_layer_3 = tf.keras.layers.Conv1D(32, 3, activation=\"relu\", name=\"Conv2D_layer_3\",padding=\"valid\")(dropout1)\n",
    "Conv2D_layer_4 = tf.keras.layers.Conv1D(32, 3, activation=\"relu\", name=\"Conv2D_layer_4\",padding=\"valid\")(Conv2D_layer_3)\n",
    "MaxPooling2D_layer_2 = tf.keras.layers.MaxPooling1D(2, name=\"MaxPooling2D_layer_2\")(Conv2D_layer_4)\n",
    "dropout2=tf.keras.layers.SpatialDropout1D(rate=0.01)(MaxPooling2D_layer_2)\n",
    "Conv2D_layer_5 = tf.keras.layers.Conv1D(32, 3, activation=\"relu\", name=\"Conv2D_layer_5\",padding=\"valid\")(dropout2)\n",
    "Conv2D_layer_6= tf.keras.layers.Conv1D(32, 3, activation=\"relu\", name=\"Conv2D_layer_6\",padding=\"valid\")(Conv2D_layer_5)\n",
    "MaxPooling2D_layer_3 = tf.keras.layers.MaxPooling1D(2, name=\"MaxPooling2D_layer_3\")(Conv2D_layer_4)\n",
    "dropout3=tf.keras.layers.SpatialDropout1D(rate=0.01)(MaxPooling2D_layer_3)\n",
    "Conv2D_layer_7 = tf.keras.layers.Conv1D(256, 3, activation=\"relu\", name=\"Conv2D_layer_7\",padding=\"valid\")(dropout3)\n",
    "Conv2D_layer_8= tf.keras.layers.Conv1D(256, 3, activation=\"relu\", name=\"Conv2D_layer_8\",padding=\"valid\")(Conv2D_layer_7)\n",
    "GlobalMaxPool1D_layer = tf.keras.layers.GlobalMaxPool1D( name=\"GlobalMaxPool1D_layer\")(Conv2D_layer_8)\n",
    "Dense_layer_1 = tf.keras.layers.Dropout(rate=0.01)(GlobalMaxPool1D_layer)\n",
    "Dense_layer_2 = tf.keras.layers.Dropout(rate=0.01)(tf.keras.layers.Dense(64, activation=\"relu\", name=\"dense_1\")(Dense_layer_1))\n",
    "Dense_layer_3 = tf.keras.layers.Dropout(rate=0.05)(tf.keras.layers.Dense(64, activation=\"relu\", name=\"dense_2\")(Dense_layer_2))\n",
    "output_layer = tf.keras.layers.Dense(5, activation=\"softmax\")(Dense_layer_3)\n",
    "\n",
    "# Create the model\n",
    "cnn_model = tf.keras.Model(inputs=input_layer, outputs=output_layer, name=\"cnn_model\")\n",
    "\n",
    "# Compile the model\n",
    "cnn_model.compile(loss=tf.keras.losses.SparseCategoricalCrossentropy(),\n",
    "                  optimizer=tf.keras.optimizers.Adam(learning_rate=0.001),\n",
    "                  metrics=['accuracy'])\n",
    "\n",
    "# Fit the model\n",
    "history1 = cnn_model.fit(X_train_scaled, y_train, epochs=100, validation_data=(X_test_scaled, y_test),batch_size=32,validation_batch_size=32, callbacks=[\n",
    "    tf.keras.callbacks.EarlyStopping(monitor=\"val_accuracy\", patience=100, restore_best_weights=True)\n",
    "])\n",
    "\n",
    "\"\"\"\""
   ]
  }
 ],
 "metadata": {
  "kernelspec": {
   "display_name": "Python 3",
   "language": "python",
   "name": "python3"
  },
  "language_info": {
   "codemirror_mode": {
    "name": "ipython",
    "version": 3
   },
   "file_extension": ".py",
   "mimetype": "text/x-python",
   "name": "python",
   "nbconvert_exporter": "python",
   "pygments_lexer": "ipython3",
   "version": "3.9.15"
  },
  "orig_nbformat": 4
 },
 "nbformat": 4,
 "nbformat_minor": 2
}
